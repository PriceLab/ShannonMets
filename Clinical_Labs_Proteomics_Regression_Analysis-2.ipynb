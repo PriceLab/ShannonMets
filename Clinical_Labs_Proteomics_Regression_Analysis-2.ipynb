{
 "cells": [
  {
   "cell_type": "code",
   "execution_count": 1,
   "metadata": {
    "collapsed": true
   },
   "outputs": [],
   "source": [
    "# Load libraries\n",
    "from sklearn.preprocessing import StandardScaler\n",
    "import scipy.stats as stats\n",
    "import matplotlib.pyplot as plt\n",
    "from sklearn import model_selection\n",
    "import seaborn as sns\n",
    "from string import ascii_letters\n",
    "import numpy as np\n",
    "import pandas as pd\n",
    "import sklearn\n",
    "from sklearn.model_selection import train_test_split\n",
    "from sklearn.linear_model import RidgeCV,LassoCV\n",
    "from sklearn.metrics import mean_squared_error\n",
    "from sklearn.ensemble import RandomForestClassifier\n",
    "from sklearn.model_selection import cross_val_score\n",
    "from sklearn.metrics import r2_score\n",
    "from sklearn.model_selection import KFold\n",
    "import warnings\n",
    "warnings.filterwarnings(\"ignore\")\n",
    "%matplotlib inline"
   ]
  },
  {
   "cell_type": "code",
   "execution_count": 2,
   "metadata": {},
   "outputs": [
    {
     "name": "stdout",
     "output_type": "stream",
     "text": [
      "(399, 663)\n",
      "262\n",
      "176\n",
      "399\n",
      "540\n"
     ]
    }
   ],
   "source": [
    "#Importing Data\n",
    "chemistries_discovery=pd.DataFrame.from_csv('chemistries_git.csv')\n",
    "chemistries_discovery.index=chemistries_discovery.index.astype('float64')\n",
    "chemistries_validation=pd.DataFrame.from_csv('chemistries_val_git.csv')\n",
    "prot=pd.DataFrame.from_csv('cleaned_proteomics.csv')\n",
    "prot.index=prot.index.astype('float64')\n",
    "prot_validation=pd.DataFrame.from_csv('proteomics_validation_impute.csv')\n",
    "prot_validation.index=prot_validation.index.astype('float64')\n",
    "discovery_mets=pd.DataFrame.from_csv('data_discovery.csv')\n",
    "discovery_mets.index=discovery_mets.index.astype('float64')\n",
    "print (discovery_mets.shape)\n",
    "print (len(prot))\n",
    "print (len(prot_validation))\n",
    "print (len(chemistries_discovery))\n",
    "print (len(chemistries_validation))\n",
    "prot.drop(['sex','age'],1,inplace=True)\n",
    "prot['shannon']=chemistries_discovery['shannon']"
   ]
  },
  {
   "cell_type": "code",
   "execution_count": 3,
   "metadata": {},
   "outputs": [
    {
     "name": "stdout",
     "output_type": "stream",
     "text": [
      "(399, 77)\n"
     ]
    },
    {
     "data": {
      "text/plain": [
       "<matplotlib.axes._subplots.AxesSubplot at 0x7f6ec8b80128>"
      ]
     },
     "execution_count": 3,
     "metadata": {},
     "output_type": "execute_result"
    },
    {
     "data": {
      "image/png": "[encoded data removed]",
      "text/plain": [
       "<matplotlib.figure.Figure at 0x7f6ec8baf748>"
      ]
     },
     "metadata": {},
     "output_type": "display_data"
    }
   ],
   "source": [
    "#Scale and standardize chemistries\n",
    "C = chemistries_discovery.loc[:,chemistries_discovery.columns!='shannon']\n",
    "C_validation = chemistries_validation.loc[:,chemistries_validation.columns!='shannon']\n",
    "y = chemistries_discovery['shannon']\n",
    "y_validation = chemistries_validation['shannon']\n",
    "#y, _ = stats.boxcox(y)\n",
    "scaler = StandardScaler(copy=True, with_mean=True, with_std=True)\n",
    "Ccolumns=C.columns\n",
    "Cindex=C.index\n",
    "C = scaler.fit_transform(C)\n",
    "C=pd.DataFrame(data=C,columns=Ccolumns,index=Cindex)\n",
    "print (C.shape)\n",
    "sns.set(font_scale=1.00)\n",
    "Ccolumns=C_validation.columns\n",
    "Cindex=C_validation.index\n",
    "C_validation = scaler.fit_transform(C_validation)\n",
    "C_validation=pd.DataFrame(data=C_validation,columns=Ccolumns,index=Cindex)\n",
    "C_validation[C_validation.columns[4]].hist(bins=20)"
   ]
  },
  {
   "cell_type": "code",
   "execution_count": 4,
   "metadata": {},
   "outputs": [
    {
     "name": "stdout",
     "output_type": "stream",
     "text": [
      "LASSO Clinical Labs mean R2 discovery 0.014287995440638768\n",
      "LASSO Clinical Labs std.dev. R2 discovery 0.07241550295868537\n",
      "Ridge Clinical Labs mean R2 discovery 0.04976707046420844\n",
      "Ridge Clinical Labs std.dev. R2 discovery 0.06414440222786218\n"
     ]
    }
   ],
   "source": [
    "alphas = np.linspace(1,1000,200)\n",
    "lassocv=LassoCV(eps=0.175, n_alphas=200, alphas=None, fit_intercept=True, normalize=False, precompute='auto', cv=10)\n",
    "ridgecv=RidgeCV(alphas=alphas,fit_intercept=True,normalize=False,cv=10)\n",
    "clinical_lasso=cross_val_score(lassocv,C,y,cv=10)\n",
    "print ('LASSO Clinical Labs mean R2 discovery',np.mean(clinical_lasso))\n",
    "print ('LASSO Clinical Labs std.dev. R2 discovery',np.std(clinical_lasso))\n",
    "clinical_ridge=cross_val_score(ridgecv,C,y,cv=10)\n",
    "print ('Ridge Clinical Labs mean R2 discovery',np.mean(clinical_ridge))\n",
    "print ('Ridge Clinical Labs std.dev. R2 discovery',np.std(clinical_ridge))"
   ]
  },
  {
   "cell_type": "code",
   "execution_count": 5,
   "metadata": {},
   "outputs": [
    {
     "data": {
      "text/plain": [
       "array([-0.00118578,  0.01013307,  0.03860967,  0.07893114, -0.06392093,\n",
       "        0.12813367,  0.0228558 , -0.14993282,  0.04180441,  0.03745172])"
      ]
     },
     "execution_count": 5,
     "metadata": {},
     "output_type": "execute_result"
    }
   ],
   "source": [
    "clinical_lasso"
   ]
  },
  {
   "cell_type": "code",
   "execution_count": 6,
   "metadata": {},
   "outputs": [
    {
     "name": "stdout",
     "output_type": "stream",
     "text": [
      "LASSO Clinical Labs mean R2 validation cohort 0.05260391509880893\n",
      "LASSO Clinical Labs std.dev. R2 validation cohort 0.07047866142625173\n",
      "Ridge Clinical Labs mean R2 validation cohort 0.08126132461496528\n",
      "Ridge Clinical Labs std.dev. R2 validation cohort 0.06503358303921523\n"
     ]
    }
   ],
   "source": [
    "clinical_lasso_validation=cross_val_score(lassocv,C_validation,y_validation,cv=10)\n",
    "print ('LASSO Clinical Labs mean R2 validation cohort',np.mean(clinical_lasso_validation))\n",
    "print ('LASSO Clinical Labs std.dev. R2 validation cohort',np.std(clinical_lasso_validation))\n",
    "clinical_ridge_validation=cross_val_score(ridgecv,C_validation,y_validation,cv=10)\n",
    "print ('Ridge Clinical Labs mean R2 validation cohort',np.mean(clinical_ridge_validation))\n",
    "print ('Ridge Clinical Labs std.dev. R2 validation cohort',np.std(clinical_ridge_validation))"
   ]
  },
  {
   "cell_type": "code",
   "execution_count": 7,
   "metadata": {},
   "outputs": [
    {
     "name": "stdout",
     "output_type": "stream",
     "text": [
      "(262, 263)\n"
     ]
    }
   ],
   "source": [
    "#Scale and standardize chemistries\n",
    "p = prot.loc[:,prot.columns!='shannon']\n",
    "py = prot['shannon']\n",
    "p_validation = prot_validation.loc[:,prot_validation.columns!='shannon']\n",
    "y = chemistries_discovery['shannon']\n",
    "y_validation = prot_validation['shannon']\n",
    "#y, _ = stats.boxcox(y)\n",
    "scaler = StandardScaler(copy=True, with_mean=True, with_std=True)\n",
    "pcolumns=p.columns\n",
    "pindex=p.index\n",
    "p = scaler.fit_transform(p)\n",
    "p=pd.DataFrame(data=p,columns=pcolumns,index=pindex)\n",
    "print (p.shape)\n",
    "Ccolumns=p_validation.columns\n",
    "Cindex=p_validation.index\n",
    "p_validation = scaler.fit_transform(p_validation)\n",
    "p_validation=pd.DataFrame(data=p_validation,columns=Ccolumns,index=Cindex)"
   ]
  },
  {
   "cell_type": "code",
   "execution_count": 8,
   "metadata": {},
   "outputs": [
    {
     "name": "stdout",
     "output_type": "stream",
     "text": [
      "LASSO Proteomics mean R2 discovery cohort 0.10675946100201447\n",
      "LASSO Proteomics std dev. R2 discovery cohort 0.07052447103195425\n",
      "Ridge Proteomics mean R2 discovery cohort 0.13120517502192397\n",
      "Ridge Proteomics std dev. R2 discovery cohort 0.07406545025140095\n"
     ]
    }
   ],
   "source": [
    "p_lasso=cross_val_score(lassocv,p,py,cv=10)\n",
    "print ('LASSO Proteomics mean R2 discovery cohort',np.mean(p_lasso))\n",
    "print ('LASSO Proteomics std dev. R2 discovery cohort',np.std(p_lasso))\n",
    "p_ridge=cross_val_score(ridgecv,p,py,cv=10)\n",
    "print ('Ridge Proteomics mean R2 discovery cohort',np.mean(p_ridge))\n",
    "print ('Ridge Proteomics std dev. R2 discovery cohort',np.std(p_ridge))"
   ]
  },
  {
   "cell_type": "code",
   "execution_count": 9,
   "metadata": {},
   "outputs": [
    {
     "name": "stdout",
     "output_type": "stream",
     "text": [
      "LASSO Proteomics mean R2 discovery cohort -0.06853768285695391\n",
      "LASSO Proteomics std dev. R2 discovery cohort 0.23708603639510709\n",
      "Ridge Proteomics mean R2 discovery cohort -0.0007898782182449778\n",
      "Ridge Proteomics std dev. R2 discovery cohort 0.16269554555751126\n"
     ]
    }
   ],
   "source": [
    "alphas = np.linspace(800,1000,200)\n",
    "ridgecv=RidgeCV(alphas=alphas,fit_intercept=True,normalize=False,cv=10)\n",
    "lassocv=LassoCV(eps=0.175, n_alphas=200, alphas=None, fit_intercept=True, normalize=False, precompute='auto', cv=10)\n",
    "p_lasso_validation=cross_val_score(lassocv,p_validation,y_validation,cv=10)\n",
    "print ('LASSO Proteomics mean R2 discovery cohort',np.mean(p_lasso_validation))\n",
    "print ('LASSO Proteomics std dev. R2 discovery cohort',np.std(p_lasso_validation))\n",
    "p_ridge_validation=cross_val_score(ridgecv,p_validation,y_validation,cv=10)\n",
    "print ('Ridge Proteomics mean R2 discovery cohort',np.mean(p_ridge_validation))\n",
    "print ('Ridge Proteomics std dev. R2 discovery cohort',np.std(p_ridge_validation))"
   ]
  },
  {
   "cell_type": "code",
   "execution_count": 10,
   "metadata": {},
   "outputs": [
    {
     "data": {
      "text/plain": [
       "array([[<matplotlib.axes._subplots.AxesSubplot object at 0x7f6ec8bf7b70>]],\n",
       "      dtype=object)"
      ]
     },
     "execution_count": 10,
     "metadata": {},
     "output_type": "execute_result"
    },
    {
     "data": {
      "image/png": "[encoded data removed]",
      "text/plain": [
       "<matplotlib.figure.Figure at 0x7f6ec8b9a630>"
      ]
     },
     "metadata": {},
     "output_type": "display_data"
    }
   ],
   "source": [
    "#joining clinical labs and proteomics\n",
    "merged = pd.merge(left=prot.drop(['shannon'],1), left_index=True,\n",
    "                  right=chemistries_discovery, right_index=True,\n",
    "                  how='inner')\n",
    "merged_scaled = merged.loc[:,merged.columns!='shannon']\n",
    "y_merged = merged['shannon']\n",
    "scaler = StandardScaler(copy=True, with_mean=True, with_std=True)\n",
    "mcolumns=merged_scaled.columns\n",
    "mindex=merged_scaled.index\n",
    "M = scaler.fit_transform(merged_scaled)\n",
    "merged_scaled=pd.DataFrame(data=M,columns=mcolumns,index=mindex)\n",
    "merged_scaled[merged.columns[2:3]].hist(bins=20)"
   ]
  },
  {
   "cell_type": "code",
   "execution_count": 11,
   "metadata": {},
   "outputs": [
    {
     "name": "stdout",
     "output_type": "stream",
     "text": [
      "LASSO merged mean R2 discovery cohort 0.08854577717811178\n",
      "LASSO merged std dev. R2 discovery cohort 0.0670782165613813\n",
      "Ridge merged mean R2 discovery cohort 0.12776256652980614\n",
      "Ridge merged std dev. R2 discovery cohort 0.06556358503026018\n"
     ]
    }
   ],
   "source": [
    "#Running LASSO and Ridge on merged datasets proteomics and clinical labs\n",
    "ridgecv=RidgeCV(alphas=alphas,fit_intercept=True,normalize=False,cv=10)\n",
    "lassocv=LassoCV(eps=0.175, n_alphas=200, alphas=None, fit_intercept=True, normalize=False, precompute='auto', cv=10)\n",
    "merged_lasso=cross_val_score(lassocv,merged_scaled,y_merged,cv=10)\n",
    "print ('LASSO merged mean R2 discovery cohort',np.mean(merged_lasso))\n",
    "print ('LASSO merged std dev. R2 discovery cohort',np.std(merged_lasso))\n",
    "merged_ridge=cross_val_score(ridgecv,merged_scaled,y_merged,cv=10)\n",
    "print ('Ridge merged mean R2 discovery cohort',np.mean(merged_ridge))\n",
    "print ('Ridge merged std dev. R2 discovery cohort',np.std(merged_ridge))"
   ]
  },
  {
   "cell_type": "code",
   "execution_count": 12,
   "metadata": {},
   "outputs": [
    {
     "name": "stdout",
     "output_type": "stream",
     "text": [
      "(399, 736)\n",
      "LASSO merged mets and clinical labs mean R2 discovery cohort 0.44691137738772035\n",
      "LASSO merged mets and clinical labs std dev. R2 discovery cohort 0.10532544715046221\n",
      "Ridge merged mets and clinical labs mean R2 discovery cohort 0.34084360054226287\n",
      "Ridge merged mets and clinical labs std dev. R2 discovery cohort 0.11614513189665707\n"
     ]
    },
    {
     "data": {
      "image/png": "[encoded data removed]",
      "text/plain": [
       "<matplotlib.figure.Figure at 0x7f6ebcf2a7b8>"
      ]
     },
     "metadata": {},
     "output_type": "display_data"
    }
   ],
   "source": [
    "#mets and clinical labs\n",
    "mets_clinical = pd.merge(left=discovery_mets[discovery_mets.columns[0:659]], left_index=True,\n",
    "                  right=chemistries_discovery, right_index=True,\n",
    "                  how='inner')\n",
    "merged_metsclin = mets_clinical.loc[:,mets_clinical.columns!='shannon']\n",
    "y_merged = mets_clinical['shannon']\n",
    "scaler = StandardScaler(copy=True, with_mean=True, with_std=True)\n",
    "mcolumns=merged_metsclin.columns\n",
    "mindex=merged_metsclin.index\n",
    "M = scaler.fit_transform(merged_metsclin)\n",
    "merged_metsclin=pd.DataFrame(data=M,columns=mcolumns,index=mindex)\n",
    "merged_metsclin[merged_metsclin.columns[2:3]].hist(bins=20)\n",
    "print (merged_metsclin.shape)\n",
    "ridgecv=RidgeCV(alphas=alphas,fit_intercept=True,normalize=False,cv=10)\n",
    "lassocv=LassoCV(eps=0.015, n_alphas=200, alphas=None, fit_intercept=True, normalize=False, precompute='auto', cv=10)\n",
    "merged_lasso=cross_val_score(lassocv,merged_metsclin,y_merged,cv=10)\n",
    "print ('LASSO merged mets and clinical labs mean R2 discovery cohort',np.mean(merged_lasso))\n",
    "print ('LASSO merged mets and clinical labs std dev. R2 discovery cohort',np.std(merged_lasso))\n",
    "merged_ridge=cross_val_score(ridgecv,merged_metsclin,y_merged,cv=10)\n",
    "print ('Ridge merged mets and clinical labs mean R2 discovery cohort',np.mean(merged_ridge))\n",
    "print ('Ridge merged mets and clinical labs std dev. R2 discovery cohort',np.std(merged_ridge))"
   ]
  },
  {
   "cell_type": "code",
   "execution_count": 13,
   "metadata": {},
   "outputs": [
    {
     "name": "stdout",
     "output_type": "stream",
     "text": [
      "(262, 922)\n"
     ]
    }
   ],
   "source": [
    "#proteins and mets\n",
    "mets_prots = pd.merge(left=discovery_mets[discovery_mets.columns[0:659]], left_index=True,\n",
    "                  right=prot, right_index=True,\n",
    "                  how='inner')\n",
    "mets_prots_scaled = mets_prots.loc[:,mets_prots.columns!='shannon']\n",
    "y_merged = mets_prots['shannon']\n",
    "scaler = StandardScaler(copy=True, with_mean=True, with_std=True)\n",
    "mcolumns=mets_prots_scaled.columns\n",
    "mindex=mets_prots_scaled.index\n",
    "Mp = scaler.fit_transform(mets_prots_scaled)\n",
    "mets_prots_scaled=pd.DataFrame(data=Mp,columns=mcolumns,index=mindex)\n",
    "print (mets_prots_scaled.shape)"
   ]
  },
  {
   "cell_type": "code",
   "execution_count": 14,
   "metadata": {},
   "outputs": [
    {
     "name": "stdout",
     "output_type": "stream",
     "text": [
      "LASSO mets+prots  mean R2 discovery cohort 0.3964953150355976\n",
      "LASSO mets+prots std dev. R2 discovery cohort 0.08682685882678069\n"
     ]
    }
   ],
   "source": [
    "ridgecv=RidgeCV(alphas=alphas,fit_intercept=True,normalize=False,cv=10)\n",
    "lassocv=LassoCV(eps=0.015, n_alphas=200, alphas=None, fit_intercept=True, normalize=False, precompute='auto', cv=10)\n",
    "merged_lasso_2=cross_val_score(lassocv,mets_prots_scaled,y_merged,cv=10)\n",
    "print ('LASSO mets+prots  mean R2 discovery cohort',np.mean(merged_lasso_2))\n",
    "print ('LASSO mets+prots std dev. R2 discovery cohort',np.std(merged_lasso_2))"
   ]
  },
  {
   "cell_type": "code",
   "execution_count": 16,
   "metadata": {},
   "outputs": [
    {
     "name": "stdout",
     "output_type": "stream",
     "text": [
      "(262, 999)\n",
      "LASSO merged mean R2 discovery cohort 0.39709106414332795\n",
      "LASSO merged std dev. R2 discovery cohort 0.08707907416569671\n",
      "Ridge merged mean R2 discovery cohort 0.3495174868292769\n",
      "Ridge merged std dev. R2 discovery cohort 0.08965138790911013\n"
     ]
    },
    {
     "data": {
      "image/png": "[encoded data removed]",
      "text/plain": [
       "<matplotlib.figure.Figure at 0x7f6ebcddf908>"
      ]
     },
     "metadata": {},
     "output_type": "display_data"
    }
   ],
   "source": [
    "#proteins, mets, and clinical labs\n",
    "merged = pd.merge(left=prot.drop(['shannon'],1), left_index=True,\n",
    "                  right=mets_clinical, right_index=True,\n",
    "                  how='inner')\n",
    "merged_scaled = merged.loc[:,merged.columns!='shannon']\n",
    "y_merged = merged['shannon']\n",
    "scaler = StandardScaler(copy=True, with_mean=True, with_std=True)\n",
    "mcolumns=merged_scaled.columns\n",
    "mindex=merged_scaled.index\n",
    "M = scaler.fit_transform(merged_scaled)\n",
    "merged_scaled=pd.DataFrame(data=M,columns=mcolumns,index=mindex)\n",
    "merged_scaled[merged.columns[2:3]].hist(bins=20)\n",
    "print (merged_scaled.shape)\n",
    "ridgecv=RidgeCV(alphas=alphas,fit_intercept=True,normalize=False,cv=10)\n",
    "lassocv=LassoCV(eps=0.015, n_alphas=200, alphas=None, fit_intercept=True, normalize=False, precompute='auto', cv=10)\n",
    "merged_lasso_2=cross_val_score(lassocv,merged_scaled,y_merged,cv=10)\n",
    "print ('LASSO merged mean R2 discovery cohort',np.mean(merged_lasso_2))\n",
    "print ('LASSO merged std dev. R2 discovery cohort',np.std(merged_lasso_2))\n",
    "merged_ridge=cross_val_score(ridgecv,merged_scaled,y_merged,cv=10)\n",
    "print ('Ridge merged mean R2 discovery cohort',np.mean(merged_ridge))\n",
    "print ('Ridge merged std dev. R2 discovery cohort',np.std(merged_ridge))"
   ]
  }
 ],
 "metadata": {
  "anaconda-cloud": {},
  "kernelspec": {
   "display_name": "Python [default]",
   "language": "python",
   "name": "python3"
  },
  "language_info": {
   "codemirror_mode": {
    "name": "ipython",
    "version": 3
   },
   "file_extension": ".py",
   "mimetype": "text/x-python",
   "name": "python",
   "nbconvert_exporter": "python",
   "pygments_lexer": "ipython3",
   "version": "3.6.2"
  }
 },
 "nbformat": 4,
 "nbformat_minor": 2
}
