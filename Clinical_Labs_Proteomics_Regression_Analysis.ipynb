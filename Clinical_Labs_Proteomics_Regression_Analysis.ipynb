{
 "cells": [
  {
   "cell_type": "code",
   "execution_count": 1,
   "metadata": {},
   "outputs": [],
   "source": [
    "# Load libraries\n",
    "from sklearn.preprocessing import StandardScaler\n",
    "import scipy.stats as stats\n",
    "import matplotlib.pyplot as plt\n",
    "from sklearn import model_selection\n",
    "import seaborn as sns\n",
    "from string import ascii_letters\n",
    "import numpy as np\n",
    "import pandas as pd\n",
    "import sklearn\n",
    "from sklearn.model_selection import train_test_split\n",
    "from sklearn.linear_model import RidgeCV,LassoCV\n",
    "from sklearn.metrics import mean_squared_error\n",
    "from sklearn.ensemble import RandomForestClassifier\n",
    "from sklearn.model_selection import cross_val_score\n",
    "from sklearn.metrics import r2_score\n",
    "from sklearn.model_selection import KFold\n",
    "import warnings\n",
    "warnings.filterwarnings(\"ignore\")\n",
    "%matplotlib inline"
   ]
  },
  {
   "cell_type": "code",
   "execution_count": 2,
   "metadata": {},
   "outputs": [
    {
     "name": "stdout",
     "output_type": "stream",
     "text": [
      "262\n",
      "176\n",
      "399\n",
      "540\n"
     ]
    }
   ],
   "source": [
    "#Importing Data\n",
    "chemistries_discovery=pd.DataFrame.from_csv('chemistries_git.csv')\n",
    "chemistries_discovery.index=chemistries_discovery.index.astype('float64')\n",
    "chemistries_validation=pd.DataFrame.from_csv('chemistries_val_git.csv')\n",
    "prot=pd.DataFrame.from_csv('cleaned_proteomics.csv')\n",
    "prot.index=prot.index.astype('float64')\n",
    "prot_validation=pd.DataFrame.from_csv('proteomics_validation_impute.csv')\n",
    "prot_validation.index=prot_validation.index.astype('float64')\n",
    "print (len(prot))\n",
    "print (len(prot_validation))\n",
    "print (len(chemistries_discovery))\n",
    "print (len(chemistries_validation))\n",
    "prot.drop(['sex','age'],1,inplace=True)\n",
    "prot['shannon']=chemistries_discovery['shannon']"
   ]
  },
  {
   "cell_type": "code",
   "execution_count": 3,
   "metadata": {},
   "outputs": [
    {
     "name": "stdout",
     "output_type": "stream",
     "text": [
      "(399, 77)\n"
     ]
    },
    {
     "data": {
      "text/plain": [
       "<matplotlib.axes._subplots.AxesSubplot at 0x7effb2850278>"
      ]
     },
     "execution_count": 3,
     "metadata": {},
     "output_type": "execute_result"
    },
    {
     "data": {
      "image/png": "[encoded data removed]",
      "text/plain": [
       "<matplotlib.figure.Figure at 0x7effb2834940>"
      ]
     },
     "metadata": {},
     "output_type": "display_data"
    }
   ],
   "source": [
    "#Scale and standardize chemistries\n",
    "C = chemistries_discovery.loc[:,chemistries_discovery.columns!='shannon']\n",
    "C_validation = chemistries_validation.loc[:,chemistries_validation.columns!='shannon']\n",
    "y = chemistries_discovery['shannon']\n",
    "y_validation = chemistries_validation['shannon']\n",
    "#y, _ = stats.boxcox(y)\n",
    "scaler = StandardScaler(copy=True, with_mean=True, with_std=True)\n",
    "Ccolumns=C.columns\n",
    "Cindex=C.index\n",
    "C = scaler.fit_transform(C)\n",
    "C=pd.DataFrame(data=C,columns=Ccolumns,index=Cindex)\n",
    "print (C.shape)\n",
    "sns.set(font_scale=1.00)\n",
    "Ccolumns=C_validation.columns\n",
    "Cindex=C_validation.index\n",
    "C_validation = scaler.fit_transform(C_validation)\n",
    "C_validation=pd.DataFrame(data=C_validation,columns=Ccolumns,index=Cindex)\n",
    "C_validation[C_validation.columns[4]].hist(bins=20)"
   ]
  },
  {
   "cell_type": "code",
   "execution_count": 4,
   "metadata": {},
   "outputs": [
    {
     "name": "stdout",
     "output_type": "stream",
     "text": [
      "LASSO Clinical Labs mean R2 discovery 0.014287995440638768\n",
      "LASSO Clinical Labs std.dev. R2 discovery 0.07241550295868537\n",
      "Ridge Clinical Labs mean R2 discovery 0.04968931335136732\n",
      "Ridge Clinical Labs std.dev. R2 discovery 0.06435409714104452\n"
     ]
    }
   ],
   "source": [
    "alphas = np.linspace(1,1000,200)\n",
    "lassocv=LassoCV(eps=0.175, n_alphas=200, alphas=None, fit_intercept=True, normalize=False, precompute='auto', cv=10)\n",
    "ridgecv=RidgeCV(alphas=alphas,fit_intercept=True,normalize=False,cv=10)\n",
    "clinical_lasso=cross_val_score(lassocv,C,y,cv=10)\n",
    "print ('LASSO Clinical Labs mean R2 discovery',np.mean(clinical_lasso))\n",
    "print ('LASSO Clinical Labs std.dev. R2 discovery',np.std(clinical_lasso))\n",
    "clinical_ridge=cross_val_score(ridgecv,C,y,cv=10)\n",
    "print ('Ridge Clinical Labs mean R2 discovery',np.mean(clinical_ridge))\n",
    "print ('Ridge Clinical Labs std.dev. R2 discovery',np.std(clinical_ridge))"
   ]
  },
  {
   "cell_type": "code",
   "execution_count": 5,
   "metadata": {},
   "outputs": [
    {
     "name": "stdout",
     "output_type": "stream",
     "text": [
      "LASSO Clinical Labs mean R2 validation cohort 0.05260391509880893\n",
      "LASSO Clinical Labs std.dev. R2 validation cohort 0.07047866142625173\n",
      "Ridge Clinical Labs mean R2 validation cohort 0.08103277313739068\n",
      "Ridge Clinical Labs std.dev. R2 validation cohort 0.06488894598247667\n"
     ]
    }
   ],
   "source": [
    "clinical_lasso_validation=cross_val_score(lassocv,C_validation,y_validation,cv=10)\n",
    "print ('LASSO Clinical Labs mean R2 validation cohort',np.mean(clinical_lasso_validation))\n",
    "print ('LASSO Clinical Labs std.dev. R2 validation cohort',np.std(clinical_lasso_validation))\n",
    "clinical_ridge_validation=cross_val_score(ridgecv,C_validation,y_validation,cv=10)\n",
    "print ('Ridge Clinical Labs mean R2 validation cohort',np.mean(clinical_ridge_validation))\n",
    "print ('Ridge Clinical Labs std.dev. R2 validation cohort',np.std(clinical_ridge_validation))"
   ]
  },
  {
   "cell_type": "code",
   "execution_count": 6,
   "metadata": {},
   "outputs": [
    {
     "name": "stdout",
     "output_type": "stream",
     "text": [
      "(262, 263)\n"
     ]
    }
   ],
   "source": [
    "#Scale and standardize chemistries\n",
    "p = prot.loc[:,prot.columns!='shannon']\n",
    "py = prot['shannon']\n",
    "p_validation = prot_validation.loc[:,prot_validation.columns!='shannon']\n",
    "y = chemistries_discovery['shannon']\n",
    "y_validation = prot_validation['shannon']\n",
    "#y, _ = stats.boxcox(y)\n",
    "scaler = StandardScaler(copy=True, with_mean=True, with_std=True)\n",
    "pcolumns=p.columns\n",
    "pindex=p.index\n",
    "p = scaler.fit_transform(p)\n",
    "p=pd.DataFrame(data=p,columns=pcolumns,index=pindex)\n",
    "print (p.shape)\n",
    "Ccolumns=p_validation.columns\n",
    "Cindex=p_validation.index\n",
    "p_validation = scaler.fit_transform(p_validation)\n",
    "p_validation=pd.DataFrame(data=p_validation,columns=Ccolumns,index=Cindex)"
   ]
  },
  {
   "cell_type": "code",
   "execution_count": 7,
   "metadata": {},
   "outputs": [
    {
     "name": "stdout",
     "output_type": "stream",
     "text": [
      "LASSO Proteomics mean R2 discovery cohort 0.10675946100201447\n",
      "LASSO Proteomics std dev. R2 discovery cohort 0.07052447103195425\n",
      "Ridge Proteomics mean R2 discovery cohort 0.13076525647821394\n",
      "Ridge Proteomics std dev. R2 discovery cohort 0.07477626432175494\n"
     ]
    }
   ],
   "source": [
    "p_lasso=cross_val_score(lassocv,p,py,cv=10)\n",
    "print ('LASSO Proteomics mean R2 discovery cohort',np.mean(p_lasso))\n",
    "print ('LASSO Proteomics std dev. R2 discovery cohort',np.std(p_lasso))\n",
    "p_ridge=cross_val_score(ridgecv,p,py,cv=10)\n",
    "print ('Ridge Proteomics mean R2 discovery cohort',np.mean(p_ridge))\n",
    "print ('Ridge Proteomics std dev. R2 discovery cohort',np.std(p_ridge))"
   ]
  },
  {
   "cell_type": "code",
   "execution_count": 8,
   "metadata": {},
   "outputs": [
    {
     "name": "stdout",
     "output_type": "stream",
     "text": [
      "LASSO Proteomics mean R2 discovery cohort -0.06853768285695391\n",
      "LASSO Proteomics std dev. R2 discovery cohort 0.23708603639510709\n",
      "Ridge Proteomics mean R2 discovery cohort -0.0016715443399101478\n",
      "Ridge Proteomics std dev. R2 discovery cohort 0.16112518292100103\n"
     ]
    }
   ],
   "source": [
    "alphas = np.linspace(800,1000,200)\n",
    "ridgecv=RidgeCV(alphas=alphas,fit_intercept=True,normalize=False,cv=5)\n",
    "lassocv=LassoCV(eps=0.175, n_alphas=200, alphas=None, fit_intercept=True, normalize=False, precompute='auto', cv=10)\n",
    "p_lasso_validation=cross_val_score(lassocv,p_validation,y_validation,cv=10)\n",
    "print ('LASSO Proteomics mean R2 discovery cohort',np.mean(p_lasso_validation))\n",
    "print ('LASSO Proteomics std dev. R2 discovery cohort',np.std(p_lasso_validation))\n",
    "p_ridge_validation=cross_val_score(ridgecv,p_validation,y_validation,cv=10)\n",
    "print ('Ridge Proteomics mean R2 discovery cohort',np.mean(p_ridge_validation))\n",
    "print ('Ridge Proteomics std dev. R2 discovery cohort',np.std(p_ridge_validation))"
   ]
  }
 ],
 "metadata": {
  "anaconda-cloud": {},
  "kernelspec": {
   "display_name": "Python [default]",
   "language": "python",
   "name": "python3"
  },
  "language_info": {
   "codemirror_mode": {
    "name": "ipython",
    "version": 3
   },
   "file_extension": ".py",
   "mimetype": "text/x-python",
   "name": "python",
   "nbconvert_exporter": "python",
   "pygments_lexer": "ipython3",
   "version": "3.6.2"
  }
 },
 "nbformat": 4,
 "nbformat_minor": 2
}
