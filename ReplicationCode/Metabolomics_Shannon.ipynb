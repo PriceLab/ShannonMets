{
 "cells": [
  {
   "cell_type": "code",
   "execution_count": 11,
   "metadata": {},
   "outputs": [],
   "source": [
    "# Run order - 1\n",
    "# Needed input files: 'second_genome_2.csv', 'data_discovery.csv'\n",
    "# Generated output files: '_40_coefs.csv', 'top_11_mets.csv', 'coeff_validation.csv'"
   ]
  },
  {
   "cell_type": "code",
   "execution_count": 1,
   "metadata": {},
   "outputs": [],
   "source": [
    "# Load libraries\n",
    "from sklearn.preprocessing import StandardScaler\n",
    "import scipy.stats as stats\n",
    "import matplotlib.pyplot as plt\n",
    "from sklearn import model_selection\n",
    "import seaborn as sns\n",
    "from string import ascii_letters\n",
    "import numpy as np\n",
    "import pandas as pd\n",
    "import sklearn\n",
    "from sklearn.model_selection import train_test_split\n",
    "from sklearn.linear_model import RidgeCV,LassoCV\n",
    "from sklearn.model_selection import cross_val_score\n",
    "from sklearn.model_selection import cross_val_predict\n",
    "from sklearn.metrics import r2_score\n",
    "from sklearn.model_selection import KFold\n",
    "import warnings\n",
    "warnings.filterwarnings(\"ignore\")\n",
    "%matplotlib inline"
   ]
  },
  {
   "cell_type": "code",
   "execution_count": 2,
   "metadata": {},
   "outputs": [
    {
     "name": "stdout",
     "output_type": "stream",
     "text": [
      "(540, 660)\n",
      "(399, 665)\n"
     ]
    }
   ],
   "source": [
    "#Importing Data\n",
    "second_genome=pd.DataFrame.from_csv('second_genome_2.csv')\n",
    "second_genome.index=second_genome.index.astype('float64')\n",
    "print (second_genome.shape)\n",
    "discovery_mets=pd.DataFrame.from_csv('data_discovery.csv')\n",
    "discovery_mets.index=discovery_mets.index.astype('float64')\n",
    "print (discovery_mets.shape)"
   ]
  },
  {
   "cell_type": "markdown",
   "metadata": {},
   "source": [
    "# Discovery Cohort Analysis"
   ]
  },
  {
   "cell_type": "code",
   "execution_count": 3,
   "metadata": {},
   "outputs": [
    {
     "name": "stdout",
     "output_type": "stream",
     "text": [
      "(399, 659)\n"
     ]
    }
   ],
   "source": [
    "#Scale and standardize metabolites\n",
    "X = discovery_mets[discovery_mets.columns[0:659]]\n",
    "y = (discovery_mets['shannon'])\n",
    "scaler = StandardScaler(copy=True, with_mean=True, with_std=True)\n",
    "Xcolumns=X.columns\n",
    "X = scaler.fit_transform(X)\n",
    "X=pd.DataFrame(data=X,columns=Xcolumns)\n",
    "print (X.shape)"
   ]
  },
  {
   "cell_type": "code",
   "execution_count": 4,
   "metadata": {},
   "outputs": [
    {
     "name": "stdout",
     "output_type": "stream",
     "text": [
      "mean out-of-sample R2 LASSO 0.44773547745248166\n",
      "mean out-of-sample R2 Ridge 0.35023574199846985\n"
     ]
    }
   ],
   "source": [
    "## run cross_val_score on ridge and lasso to get out-of-sample R2 scores across 10-CV\n",
    "#defining L2 parameters to be tested\n",
    "alphas = np.linspace(1,1000,200)\n",
    "#Defining LASSO and Ridge parameters\n",
    "lassocv=LassoCV(eps=0.175, n_alphas=200, alphas=None, fit_intercept=True, normalize=False, precompute='auto', cv=10)\n",
    "ridgecv=RidgeCV(alphas=alphas,fit_intercept=True,normalize=False,cv=10)\n",
    "#Running 10-fold CV score function to get mean out-of-sample R2\n",
    "discovery_score=cross_val_score(lassocv,X,y,cv=10)\n",
    "print ('mean out-of-sample R2 LASSO',np.mean(discovery_score))\n",
    "discovery_score_ridge=cross_val_score(ridgecv,X,y,cv=10)\n",
    "print ('mean out-of-sample R2 Ridge',np.mean(discovery_score_ridge))"
   ]
  },
  {
   "cell_type": "code",
   "execution_count": 5,
   "metadata": {},
   "outputs": [
    {
     "name": "stdout",
     "output_type": "stream",
     "text": [
      "[0.039961541031946914, 0.04012354796331663, 0.0381683954022164, 0.041451457326540785, 0.03903085906919329, 0.0395668997409929, 0.0449161949755424, 0.03867589675958927, 0.03995461545690002, 0.041599615043147055]\n",
      "mean R2 Score LASSO 0.44773547745248166\n",
      "std. deviation for R2 Score 0.10613472897414773\n",
      "S.E.M 0.0335627482402973\n",
      "observed v predicted pearson r (0.6834440092504868, 3.207776674302782e-56)\n"
     ]
    }
   ],
   "source": [
    "#Run Cross-validation and extract Beta_coefficients for each model\n",
    "#Save predictions from each test set\n",
    "lassocv=LassoCV(eps=0.175, n_alphas=200, alphas=None, fit_intercept=True, normalize=False, precompute='auto', cv=10)\n",
    "y=discovery_mets['shannon']\n",
    "y=y.reset_index()\n",
    "y.drop(['public_client_id'],1,inplace=True)\n",
    "X_folds = np.array_split(X, 10)\n",
    "y_folds = np.array_split(y, 10)\n",
    "coefficients=pd.DataFrame(index=X.columns).astype('float64')\n",
    "predictions=[]\n",
    "alphas= []\n",
    "score= []\n",
    "for k in range(10):\n",
    "    X_train = list(X_folds)\n",
    "    X_test  = X_train.pop(k)\n",
    "    X_train = np.concatenate(X_train)\n",
    "    y_train = list(y_folds)\n",
    "    y_test  = y_train.pop(k)\n",
    "    y_test=[ x[0] for x in  list(y_test.values)]\n",
    "    y_train = np.concatenate(y_train)\n",
    "    lassocv.fit(X_train, y_train)\n",
    "    predictions.append(lassocv.predict(X_test).flatten())\n",
    "    coef=list(lassocv.coef_)\n",
    "    coefficients[k]=coef\n",
    "    alphas.append(lassocv.alpha_)\n",
    "    score.append(r2_score(y_test,lassocv.predict(X_test)))\n",
    "#The L1 penalty for each model\n",
    "print (alphas)\n",
    "predictions_lasso=[item for sublist in predictions for item in sublist]\n",
    "#Checking r2 score and pearson r\n",
    "print ('mean R2 Score LASSO',np.mean(score))\n",
    "print ('std. deviation for R2 Score',np.std(score))\n",
    "print ('S.E.M',np.std(score)/np.sqrt(10))\n",
    "print ('observed v predicted pearson r',stats.pearsonr(discovery_mets['shannon'],predictions_lasso))"
   ]
  },
  {
   "cell_type": "code",
   "execution_count": 6,
   "metadata": {
    "scrolled": true
   },
   "outputs": [
    {
     "name": "stdout",
     "output_type": "stream",
     "text": [
      "(40, 10)\n"
     ]
    },
    {
     "data": {
      "text/html": [
       "<div>\n",
       "<style scoped>\n",
       "    .dataframe tbody tr th:only-of-type {\n",
       "        vertical-align: middle;\n",
       "    }\n",
       "\n",
       "    .dataframe tbody tr th {\n",
       "        vertical-align: top;\n",
       "    }\n",
       "\n",
       "    .dataframe thead th {\n",
       "        text-align: right;\n",
       "    }\n",
       "</style>\n",
       "<table border=\"1\" class=\"dataframe\">\n",
       "  <thead>\n",
       "    <tr style=\"text-align: right;\">\n",
       "      <th></th>\n",
       "      <th>0</th>\n",
       "      <th>1</th>\n",
       "      <th>2</th>\n",
       "      <th>3</th>\n",
       "      <th>4</th>\n",
       "      <th>5</th>\n",
       "      <th>6</th>\n",
       "      <th>7</th>\n",
       "      <th>8</th>\n",
       "      <th>9</th>\n",
       "      <th>mean</th>\n",
       "      <th>std_dev</th>\n",
       "      <th>zeroes</th>\n",
       "    </tr>\n",
       "  </thead>\n",
       "  <tbody>\n",
       "    <tr>\n",
       "      <th>root.metabolite.scaled.lipid.steroid.5alpha-androstan-3beta,17alpha-diol disulfate:scaled</th>\n",
       "      <td>0.066463</td>\n",
       "      <td>0.071688</td>\n",
       "      <td>0.075548</td>\n",
       "      <td>0.079401</td>\n",
       "      <td>0.086062</td>\n",
       "      <td>0.074617</td>\n",
       "      <td>0.079345</td>\n",
       "      <td>0.086107</td>\n",
       "      <td>0.080450</td>\n",
       "      <td>0.085282</td>\n",
       "      <td>0.078496</td>\n",
       "      <td>0.006176</td>\n",
       "      <td>0</td>\n",
       "    </tr>\n",
       "    <tr>\n",
       "      <th>root.metabolite.scaled.xenobiotics.benzoate_metabolism.hippurate:scaled</th>\n",
       "      <td>0.075347</td>\n",
       "      <td>0.058071</td>\n",
       "      <td>0.061615</td>\n",
       "      <td>0.059721</td>\n",
       "      <td>0.062048</td>\n",
       "      <td>0.061329</td>\n",
       "      <td>0.058928</td>\n",
       "      <td>0.060168</td>\n",
       "      <td>0.040132</td>\n",
       "      <td>0.037057</td>\n",
       "      <td>0.057441</td>\n",
       "      <td>0.010511</td>\n",
       "      <td>0</td>\n",
       "    </tr>\n",
       "    <tr>\n",
       "      <th>root.metabolite.scaled.xenobiotics.food_component_plant.cinnamoylglycine:scaled</th>\n",
       "      <td>0.047287</td>\n",
       "      <td>0.056804</td>\n",
       "      <td>0.021443</td>\n",
       "      <td>0.060724</td>\n",
       "      <td>0.050004</td>\n",
       "      <td>0.052995</td>\n",
       "      <td>0.086802</td>\n",
       "      <td>0.047123</td>\n",
       "      <td>0.069107</td>\n",
       "      <td>0.073827</td>\n",
       "      <td>0.056612</td>\n",
       "      <td>0.016886</td>\n",
       "      <td>0</td>\n",
       "    </tr>\n",
       "    <tr>\n",
       "      <th>root.metabolite.scaled.amino_acid.phenylalanine_and_tyrosine_metabolism.p-cresol sulfate:scaled</th>\n",
       "      <td>0.058071</td>\n",
       "      <td>0.066334</td>\n",
       "      <td>0.062401</td>\n",
       "      <td>0.050803</td>\n",
       "      <td>0.049018</td>\n",
       "      <td>0.056246</td>\n",
       "      <td>0.022637</td>\n",
       "      <td>0.050644</td>\n",
       "      <td>0.049763</td>\n",
       "      <td>0.050510</td>\n",
       "      <td>0.051643</td>\n",
       "      <td>0.011175</td>\n",
       "      <td>0</td>\n",
       "    </tr>\n",
       "    <tr>\n",
       "      <th>root.metabolite.scaled.xenobiotics.food_component_plant.methyl glucopyranoside (alpha + beta):scaled</th>\n",
       "      <td>0.020713</td>\n",
       "      <td>0.028351</td>\n",
       "      <td>0.036733</td>\n",
       "      <td>0.032002</td>\n",
       "      <td>0.023007</td>\n",
       "      <td>0.021079</td>\n",
       "      <td>0.025953</td>\n",
       "      <td>0.031032</td>\n",
       "      <td>0.034010</td>\n",
       "      <td>0.025521</td>\n",
       "      <td>0.027840</td>\n",
       "      <td>0.005232</td>\n",
       "      <td>0</td>\n",
       "    </tr>\n",
       "  </tbody>\n",
       "</table>\n",
       "</div>"
      ],
      "text/plain": [
       "                                                           0         1  \\\n",
       "root.metabolite.scaled.lipid.steroid.5alpha-and...  0.066463  0.071688   \n",
       "root.metabolite.scaled.xenobiotics.benzoate_met...  0.075347  0.058071   \n",
       "root.metabolite.scaled.xenobiotics.food_compone...  0.047287  0.056804   \n",
       "root.metabolite.scaled.amino_acid.phenylalanine...  0.058071  0.066334   \n",
       "root.metabolite.scaled.xenobiotics.food_compone...  0.020713  0.028351   \n",
       "\n",
       "                                                           2         3  \\\n",
       "root.metabolite.scaled.lipid.steroid.5alpha-and...  0.075548  0.079401   \n",
       "root.metabolite.scaled.xenobiotics.benzoate_met...  0.061615  0.059721   \n",
       "root.metabolite.scaled.xenobiotics.food_compone...  0.021443  0.060724   \n",
       "root.metabolite.scaled.amino_acid.phenylalanine...  0.062401  0.050803   \n",
       "root.metabolite.scaled.xenobiotics.food_compone...  0.036733  0.032002   \n",
       "\n",
       "                                                           4         5  \\\n",
       "root.metabolite.scaled.lipid.steroid.5alpha-and...  0.086062  0.074617   \n",
       "root.metabolite.scaled.xenobiotics.benzoate_met...  0.062048  0.061329   \n",
       "root.metabolite.scaled.xenobiotics.food_compone...  0.050004  0.052995   \n",
       "root.metabolite.scaled.amino_acid.phenylalanine...  0.049018  0.056246   \n",
       "root.metabolite.scaled.xenobiotics.food_compone...  0.023007  0.021079   \n",
       "\n",
       "                                                           6         7  \\\n",
       "root.metabolite.scaled.lipid.steroid.5alpha-and...  0.079345  0.086107   \n",
       "root.metabolite.scaled.xenobiotics.benzoate_met...  0.058928  0.060168   \n",
       "root.metabolite.scaled.xenobiotics.food_compone...  0.086802  0.047123   \n",
       "root.metabolite.scaled.amino_acid.phenylalanine...  0.022637  0.050644   \n",
       "root.metabolite.scaled.xenobiotics.food_compone...  0.025953  0.031032   \n",
       "\n",
       "                                                           8         9  \\\n",
       "root.metabolite.scaled.lipid.steroid.5alpha-and...  0.080450  0.085282   \n",
       "root.metabolite.scaled.xenobiotics.benzoate_met...  0.040132  0.037057   \n",
       "root.metabolite.scaled.xenobiotics.food_compone...  0.069107  0.073827   \n",
       "root.metabolite.scaled.amino_acid.phenylalanine...  0.049763  0.050510   \n",
       "root.metabolite.scaled.xenobiotics.food_compone...  0.034010  0.025521   \n",
       "\n",
       "                                                        mean   std_dev  zeroes  \n",
       "root.metabolite.scaled.lipid.steroid.5alpha-and...  0.078496  0.006176       0  \n",
       "root.metabolite.scaled.xenobiotics.benzoate_met...  0.057441  0.010511       0  \n",
       "root.metabolite.scaled.xenobiotics.food_compone...  0.056612  0.016886       0  \n",
       "root.metabolite.scaled.amino_acid.phenylalanine...  0.051643  0.011175       0  \n",
       "root.metabolite.scaled.xenobiotics.food_compone...  0.027840  0.005232       0  "
      ]
     },
     "execution_count": 6,
     "metadata": {},
     "output_type": "execute_result"
    }
   ],
   "source": [
    "#Identifying all metabolites with non-zero Beta Coefficients for figures 1B&C\n",
    "for x in coefficients.index.tolist():\n",
    "    if (coefficients.loc[x] == 0.0).sum()==10:\n",
    "        coefficients.drop([x],inplace=True)\n",
    "print (coefficients.shape)\n",
    "#calculating mean beta-coefficient for each metabolite and counting no. of times each metabolite had a 0 beta-coefficient.\n",
    "means=[]\n",
    "std=[]\n",
    "zeroes=[]\n",
    "for x in coefficients.index.tolist():\n",
    "    means.append((np.mean(coefficients.loc[x])))\n",
    "    std.append((np.std(coefficients.loc[x])))\n",
    "    zeroes.append((coefficients.loc[x] == 0.0).astype(int).sum())\n",
    "coefficients['mean']=means\n",
    "coefficients['std_dev']=std\n",
    "coefficients['zeroes']=zeroes\n",
    "#save table as csv\n",
    "coefficients.to_csv('_40_coefs.csv')\n",
    "coefficients.sort_values(by='mean',ascending=False).head()"
   ]
  },
  {
   "cell_type": "code",
   "execution_count": 7,
   "metadata": {},
   "outputs": [],
   "source": [
    "#save top 11 metabolites to csv for classification analysis\n",
    "coefficients[coefficients['zeroes']==0].to_csv('top_11_mets.csv')"
   ]
  },
  {
   "cell_type": "markdown",
   "metadata": {},
   "source": [
    "# PD whole tree and Chao1 predictions"
   ]
  },
  {
   "cell_type": "code",
   "execution_count": 8,
   "metadata": {},
   "outputs": [
    {
     "name": "stdout",
     "output_type": "stream",
     "text": [
      "PD whole tree all 659 mets mean out-of-sample R2 0.46595868693020304\n",
      "Chao1 all 659 mets mean out-of-sample R2 0.33255103891132803\n"
     ]
    }
   ],
   "source": [
    "#Using all metabolites to predict PD whole tree and Chao1\n",
    "lassocv=LassoCV(eps=0.175, n_alphas=200, alphas=None, fit_intercept=True, normalize=False, precompute='auto', cv=10)\n",
    "discovery_PD_all=cross_val_score(lassocv,X,discovery_mets['PD_whole_tree'],cv=10)\n",
    "print ('PD whole tree all 659 mets mean out-of-sample R2',np.mean(discovery_PD_all))\n",
    "discovery_Chao_all=cross_val_score(lassocv,X,discovery_mets['chao1'],cv=10)\n",
    "print ('Chao1 all 659 mets mean out-of-sample R2',np.mean(discovery_Chao_all))"
   ]
  },
  {
   "cell_type": "code",
   "execution_count": 9,
   "metadata": {},
   "outputs": [
    {
     "name": "stdout",
     "output_type": "stream",
     "text": [
      "(399, 40)\n",
      "PD whole tree 40 mets mean out-of-sample R2 0.4992750699044487\n",
      "Chao1 all 40 mean out-of-sample R2 0.36160743908467713\n"
     ]
    }
   ],
   "source": [
    "#Testing prediction of other diversity metrics using just the 40 mets identified.\n",
    "W=pd.DataFrame()\n",
    "for x in discovery_mets.columns.tolist():\n",
    "    if x in coefficients.index.tolist():\n",
    "        W[x]=X[x]\n",
    "print (W.shape)\n",
    "lassocv=LassoCV(eps=0.01, n_alphas=200, alphas=None, fit_intercept=True, normalize=False, precompute='auto', cv=10)\n",
    "discovery_PD40_=cross_val_score(lassocv,W,discovery_mets['PD_whole_tree'],cv=10)\n",
    "print ('PD whole tree 40 mets mean out-of-sample R2',np.mean(discovery_PD40_))\n",
    "discovery_Chao40_=cross_val_score(lassocv,W,discovery_mets['chao1'],cv=10)\n",
    "print ('Chao1 all 40 mean out-of-sample R2',np.mean(discovery_Chao40_))"
   ]
  },
  {
   "cell_type": "markdown",
   "metadata": {},
   "source": [
    "# Validation Cohort Analysis"
   ]
  },
  {
   "cell_type": "code",
   "execution_count": 12,
   "metadata": {},
   "outputs": [],
   "source": [
    "#Metabolomics Validation\n",
    "#Scaling and standardizing the validation cohort\n",
    "y_validation = (second_genome['shannon'])\n",
    "vendor = second_genome[second_genome.columns[0:659]]\n",
    "scaler = StandardScaler(copy=True, with_mean=True, with_std=True)\n",
    "Xcolumns=vendor.columns\n",
    "Xindex=vendor.index\n",
    "vendor = scaler.fit_transform(vendor)\n",
    "vendor=pd.DataFrame(data=vendor,columns=Xcolumns)"
   ]
  },
  {
   "cell_type": "code",
   "execution_count": 13,
   "metadata": {},
   "outputs": [
    {
     "name": "stdout",
     "output_type": "stream",
     "text": [
      "mean out-of-sample R2 LASSO 0.3779993607744639\n",
      "mean out-of-sample STD LASSO 0.06380484009950287\n"
     ]
    }
   ],
   "source": [
    "#Run LASSO using all 659 Mets\n",
    "## run cross_val_score on ridge and lasso to get out-of-sample R2 scores across 10-CV\n",
    "lassocv=LassoCV(eps=0.175, n_alphas=200, alphas=None, fit_intercept=True, normalize=False, precompute='auto', cv=10)\n",
    "validation_score=cross_val_score(lassocv,vendor,y_validation,cv=10)\n",
    "print ('mean out-of-sample R2 LASSO',np.mean(validation_score))\n",
    "print ('mean out-of-sample STD LASSO',np.std(validation_score))"
   ]
  },
  {
   "cell_type": "code",
   "execution_count": 14,
   "metadata": {},
   "outputs": [
    {
     "name": "stdout",
     "output_type": "stream",
     "text": [
      "(540, 40)\n",
      "mean out-of-sample R2 LASSO 40 mets validation 0.3425722058905879\n",
      "std deviation of R2 score 0.07784909649313121\n"
     ]
    }
   ],
   "source": [
    "#Predict shannon using just the 40 metabolites identified in the discovery cohort\n",
    "for x in vendor.columns.tolist():\n",
    "    if x not in coefficients.index.tolist():\n",
    "        vendor.drop([x],1,inplace=True)\n",
    "print (vendor.shape)\n",
    "lassocv=LassoCV(eps=0.05, n_alphas=200, alphas=None, fit_intercept=True, normalize=False, precompute='auto', cv=10)\n",
    "validation40_score=cross_val_score(lassocv,vendor,y_validation,cv=10)\n",
    "print ('mean out-of-sample R2 LASSO 40 mets validation',np.mean(validation40_score))\n",
    "print ('std deviation of R2 score',np.std(validation40_score))"
   ]
  },
  {
   "cell_type": "code",
   "execution_count": 15,
   "metadata": {},
   "outputs": [
    {
     "name": "stdout",
     "output_type": "stream",
     "text": [
      "ttest 40 mets vs. 659 mets Ttest_indResult(statistic=1.0558927573271495, pvalue=0.3049839359873753)\n"
     ]
    }
   ],
   "source": [
    "#Assessing whether performance is significantly different across the 10-CVs between whole metabolome model and the 40 metabolite model\n",
    "print ('ttest 40 mets vs. 659 mets',stats.ttest_ind(validation_score,validation40_score))"
   ]
  },
  {
   "cell_type": "code",
   "execution_count": 18,
   "metadata": {},
   "outputs": [
    {
     "name": "stdout",
     "output_type": "stream",
     "text": [
      "0.006481230778656312\n",
      "[0.008129124361579266, 0.006676462334191416, 0.006490687317870491, 0.00675495415014577, 0.006788824190485644, 0.00671788522729803, 0.0069054870945478445, 0.006776899721933365, 0.006981219855903212, 0.006481230778656312]\n"
     ]
    }
   ],
   "source": [
    "#Extracting Beta coefficients from 10-fold cv using only 40 mets in the validation set\n",
    "lassocv=LassoCV(eps=0.05, n_alphas=200, alphas=None, fit_intercept=True, normalize=False, precompute='auto', cv=10)\n",
    "y=y_validation\n",
    "y=y.reset_index()\n",
    "y.drop(['public_client_id'],1,inplace=True)\n",
    "from sklearn.model_selection import KFold\n",
    "X_folds = np.array_split(vendor, 10)\n",
    "y_folds = np.array_split(y, 10)\n",
    "coefficients_validation=pd.DataFrame(index=vendor.columns).astype('float64')\n",
    "predictions_validation=[]\n",
    "alphas= []\n",
    "score_validation= []\n",
    "for k in range(10):\n",
    "    X_train = list(X_folds)\n",
    "    X_test  = X_train.pop(k)\n",
    "    X_train = np.concatenate(X_train)\n",
    "    y_train = list(y_folds)\n",
    "    y_test  = y_train.pop(k)\n",
    "    y_test=[ x[0] for x in  list(y_test.values)]\n",
    "    y_train = np.concatenate(y_train)\n",
    "    lassocv.fit(X_train, y_train)\n",
    "    predictions_validation.append(lassocv.predict(X_test).flatten())\n",
    "    coef=list(lassocv.coef_)\n",
    "    coefficients_validation[k]=coef\n",
    "    alphas.append(lassocv.alpha_)\n",
    "    score_validation.append(r2_score(y_test,lassocv.predict(X_test)))\n",
    "print (lassocv.alpha_)\n",
    "print (alphas)\n",
    "predictions_validation=[item for sublist in predictions_validation for item in sublist]\n",
    "#Identifying all metabolites with non-zero Beta Coefficients\n",
    "means=[]\n",
    "std=[]\n",
    "zeroes=[]\n",
    "for x in coefficients_validation.index.tolist():\n",
    "    means.append((np.mean(coefficients_validation.loc[x])))\n",
    "    std.append((np.std(coefficients_validation.loc[x])))\n",
    "    zeroes.append((coefficients_validation.loc[x] == 0).astype(int).sum())\n",
    "coefficients_validation['mean']=means\n",
    "coefficients_validation['std_dev']=std\n",
    "coefficients_validation['zeroes']=zeroes\n",
    "coefficients_validation.sort_values(by='mean')\n",
    "coefficients_validation.to_csv('coeff_validation.csv')"
   ]
  },
  {
   "cell_type": "code",
   "execution_count": 19,
   "metadata": {},
   "outputs": [
    {
     "name": "stdout",
     "output_type": "stream",
     "text": [
      "spearman rho= SpearmanrResult(correlation=0.9, pvalue=0.00015997142806871369)\n",
      "Pearson R= (0.9374199588043084, 2.051161236736048e-05)\n"
     ]
    }
   ],
   "source": [
    "#comparing beta coefficients across discovery and validation sets (Figure 6B)\n",
    "top_11_=coefficients[coefficients['zeroes']==0].index.tolist()\n",
    "correlating_coef=pd.DataFrame(index=top_11_)\n",
    "correlating_coef['mean_discovery']=coefficients['mean']\n",
    "correlating_coef['mean_validation']=coefficients_validation['mean']\n",
    "correlating_coef['std_validation']=coefficients_validation['std_dev']\n",
    "correlating_coef['std_discovery']=coefficients['std_dev']\n",
    "#running pearson and spearman on the mean model beta-coefficients across cohorts\n",
    "spearman=stats.spearmanr(correlating_coef['mean_discovery'],correlating_coef['mean_validation'])\n",
    "print ('spearman rho=',spearman)\n",
    "pearson=stats.pearsonr(correlating_coef['mean_discovery'],correlating_coef['mean_validation'])\n",
    "print ('Pearson R=',pearson)"
   ]
  },
  {
   "cell_type": "code",
   "execution_count": null,
   "metadata": {},
   "outputs": [],
   "source": []
  }
 ],
 "metadata": {
  "anaconda-cloud": {},
  "kernelspec": {
   "display_name": "arivale-py3 - Python",
   "language": "python",
   "name": "conda-env-arivale-py3-py"
  },
  "language_info": {
   "codemirror_mode": {
    "name": "ipython",
    "version": 3
   },
   "file_extension": ".py",
   "mimetype": "text/x-python",
   "name": "python",
   "nbconvert_exporter": "python",
   "pygments_lexer": "ipython3",
   "version": "3.7.3"
  }
 },
 "nbformat": 4,
 "nbformat_minor": 2
}
