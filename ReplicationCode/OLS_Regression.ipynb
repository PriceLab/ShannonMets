{
 "cells": [
  {
   "cell_type": "code",
   "execution_count": 1,
   "metadata": {},
   "outputs": [],
   "source": [
    "# Run order - 2\n",
    "# Needed input files: '_40_coefs.csv', 'data_discovery.csv'\n",
    "# Generated output files: 'supplementary_table_1.csv'"
   ]
  },
  {
   "cell_type": "code",
   "execution_count": 2,
   "metadata": {},
   "outputs": [],
   "source": [
    "# Load libraries\n",
    "from sklearn.preprocessing import StandardScaler\n",
    "import statsmodels.formula.api as smf\n",
    "import matplotlib.pyplot as plt\n",
    "import seaborn as sns\n",
    "import scipy.stats\n",
    "import numpy as np\n",
    "import pandas as pd\n",
    "import warnings\n",
    "from statsmodels.stats import multitest as multi\n",
    "warnings.filterwarnings(\"ignore\")\n",
    "%matplotlib inline"
   ]
  },
  {
   "cell_type": "code",
   "execution_count": 3,
   "metadata": {},
   "outputs": [
    {
     "data": {
      "text/plain": [
       "(399, 665)"
      ]
     },
     "execution_count": 3,
     "metadata": {},
     "output_type": "execute_result"
    }
   ],
   "source": [
    "#import CSV with 40 identified mets from LASSO and discovery metabolomics dataframe with covariates included\n",
    "LASSO_coef=pd.read_csv(\"_40_coefs.csv\", index_col=0)\n",
    "data_clean=pd.read_csv(\"data_discovery.csv\", index_col='public_client_id')\n",
    "#Get shape, data_clean has BMI,sex, age, and shannon columns added\n",
    "data_clean.shape"
   ]
  },
  {
   "cell_type": "code",
   "execution_count": 4,
   "metadata": {},
   "outputs": [],
   "source": [
    "#Scale and standardize, once mets are scaled/standardized add back covariates\n",
    "X = data_clean[data_clean.columns[0:659]]\n",
    "scaler = StandardScaler(copy=True, with_mean=True, with_std=True)\n",
    "Xcolumns=X.columns\n",
    "X = scaler.fit_transform(X)\n",
    "X=pd.DataFrame(data=X,columns=Xcolumns,index=data_clean.index)\n",
    "X['BMI']=data_clean['BMI']\n",
    "X['Age']=data_clean['Age']\n",
    "X['shannon']=data_clean['shannon']\n",
    "X['sex']=data_clean['sex']"
   ]
  },
  {
   "cell_type": "code",
   "execution_count": 5,
   "metadata": {},
   "outputs": [
    {
     "name": "stdout",
     "output_type": "stream",
     "text": [
      "40\n",
      "no. of mets with >10% variance explained: 9\n"
     ]
    }
   ],
   "source": [
    "#Assess relationship of each metabolite with shannon independently\n",
    "mets_cov_df=X\n",
    "#generate list of all metabolites retained by LASSO (40)\n",
    "mets=LASSO_coef.index.tolist()\n",
    "#run analysis assessing the relationship of each metabolite and shannon\n",
    "r_squared=[]\n",
    "analyte=[]\n",
    "p=[]\n",
    "for x in mets:\n",
    "    mets_cov_df['response']=mets_cov_df[x]\n",
    "    results = smf.ols('shannon ~ response', data=mets_cov_df).fit()\n",
    "    p_extract=results.pvalues.tolist()\n",
    "    p_test=p_extract[1]\n",
    "    p.append(p_test)\n",
    "    r_squared.append(results.rsquared*100)\n",
    "    analyte.append(x)\n",
    "mets_independent=pd.DataFrame()\n",
    "mets_independent['analyte']=analyte\n",
    "mets_independent['p_value']=p\n",
    "mets_independent['r_squared']=r_squared\n",
    "mets_independent.set_index('analyte',inplace=True)\n",
    "results_solo_mets = list([x.split(\":\")[0].split(\".\")[-1] for x in mets_independent.index.tolist()])\n",
    "mets_independent.index=results_solo_mets\n",
    "mets_independent.sort_values(by='r_squared',ascending=False,inplace=True)\n",
    "mets_independent.index = [ x.replace('_', ' ') for x in mets_independent.index.tolist()]\n",
    "#confirm no. of metabolites is 40\n",
    "print (len(mets_independent))\n",
    "#check how man mets explain over 10% of variance in Shannon\n",
    "mets_10rsq=len(mets_independent[mets_independent['r_squared']>10])\n",
    "print ('no. of mets with >10% variance explained:', mets_10rsq )"
   ]
  },
  {
   "cell_type": "code",
   "execution_count": 6,
   "metadata": {},
   "outputs": [
    {
     "name": "stdout",
     "output_type": "stream",
     "text": [
      "40\n",
      "no. of mets significantly associated with shannon after adjusting for covariates (FDR<0.05) 35\n"
     ]
    }
   ],
   "source": [
    "#Assess relationship of each metabolite with Shannon adjusting for covariates\n",
    "#import df with scaled mets with added covariate columns\n",
    "mets_cov_df=X\n",
    "#run regression with shannon as dependent variable and each of the 40 mets as the independent variable, adjusting for BMI, age, and sex\n",
    "p=[]\n",
    "analyte=[]\n",
    "test_value=[]\n",
    "results=pd.DataFrame()\n",
    "for x in mets:\n",
    "    mets_cov_df['response']=X[x]\n",
    "    results = smf.ols('shannon ~ BMI+Age+sex+response', data=mets_cov_df).fit()\n",
    "    p_extract=results.pvalues.tolist()\n",
    "    p_test=p_extract[4]\n",
    "    analyte.append(x)\n",
    "    p.append(p_test)\n",
    "    parameters=results.params.tolist()\n",
    "    param=parameters[4]\n",
    "    test_value.append(param)\n",
    "results_ols=pd.DataFrame()\n",
    "results_ols['r_squared']=mets_independent['r_squared']\n",
    "results_ols['analyte']=analyte\n",
    "results_ols['pvalue']=p\n",
    "results_ols.set_index('analyte')\n",
    "#multiple hypothesis correction\n",
    "results_ols['corr_pval']=multi.multipletests(results_ols['pvalue'], alpha=0.05, method='fdr_bh', is_sorted=False,returnsorted=False)[1]\n",
    "results_ols['covariate_adjusted_Beta_coeff']=test_value\n",
    "#confirm no. of metaoblites tested\n",
    "print (len(results_ols))\n",
    "results_ols=results_ols.set_index('analyte')\n",
    "results_ols.head()\n",
    "results_ols['LASSO_coefficient']=LASSO_coef['mean']\n",
    "results_ols['No_of_zero_coefficients']=LASSO_coef['zeroes']\n",
    "results_ols.sort_values(by='LASSO_coefficient',ascending=False,inplace=True)\n",
    "#no. of metabolites significantly associated with shannon after adjusting for covariates and multiple hypothesis testing\n",
    "significant=results_ols[results_ols['corr_pval']<0.05].index.tolist()\n",
    "print ('no. of mets significantly associated with shannon after adjusting for covariates (FDR<0.05)',len(significant))"
   ]
  },
  {
   "cell_type": "code",
   "execution_count": 7,
   "metadata": {},
   "outputs": [],
   "source": [
    "#save output\n",
    "results_ols.to_csv('supplementary_table_1.csv')"
   ]
  }
 ],
 "metadata": {
  "anaconda-cloud": {},
  "kernelspec": {
   "display_name": "arivale-py3 - Python",
   "language": "python",
   "name": "conda-env-arivale-py3-py"
  },
  "language_info": {
   "codemirror_mode": {
    "name": "ipython",
    "version": 3
   },
   "file_extension": ".py",
   "mimetype": "text/x-python",
   "name": "python",
   "nbconvert_exporter": "python",
   "pygments_lexer": "ipython3",
   "version": "3.7.3"
  }
 },
 "nbformat": 4,
 "nbformat_minor": 2
}
